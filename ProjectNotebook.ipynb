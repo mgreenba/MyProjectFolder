{
 "cells": [
  {
   "cell_type": "markdown",
   "metadata": {},
   "source": [
    "# Project Description"
   ]
  },
  {
   "cell_type": "markdown",
   "metadata": {},
   "source": [
    "For my final project, I wanted to extend on assignment 3, the chatbot. \n",
    "First of all, I wanted to slightly change the structure that was made on that assignment. \n",
    "With this project, I constructed the code in organization that is separated in a way \n",
    "that makes more sense than the original assignment. In addition, I added functions to\n",
    "ask the user how they are feeling. I created functions that based on the user's answer,\n",
    "checks for common positive, neutral, or negative feelings. Based on the type of feeling,\n",
    "the chatbot responded with a specific answer. Also, if the user did not use one of the\n",
    "common ways to describe their feeling, the chatbot gives the output of \n",
    "'Please use different words to describe your feelings.' I also contructed my chatbot\n",
    "to check if the user inputs certain characters. In addition, I added the time sleep function\n",
    "to get a slight delay in response time from the chatbot, in order to make it seem more\n",
    "realistic, as if the user is conversing with a human instead of a bot. I also added a function \n",
    "that displays information about the chat bot before the user types in any input."
   ]
  },
  {
   "cell_type": "markdown",
   "metadata": {},
   "source": [
    "To cite: I used and modified code from assignment 3."
   ]
  },
  {
   "cell_type": "code",
   "execution_count": 1,
   "metadata": {},
   "outputs": [],
   "source": [
    "from my_module.functions import (get_input, is_question, is_character, is_greeting, positive_user_feeling,\n",
    "neutral_user_feeling, end_chat, return_message, have_a_chat, print_info)"
   ]
  },
  {
   "cell_type": "code",
   "execution_count": 2,
   "metadata": {},
   "outputs": [
    {
     "name": "stdout",
     "output_type": "stream",
     "text": [
      "My Name is ChatBot\n",
      "My Age is 33\n",
      "To quit type: 'quit'\n",
      "How are you feeling?\n",
      "INPUT :\thi\n",
      "OUTPUT: Hello, it's nice to talk to you!\n",
      "INPUT :\tgood\n",
      "OUTPUT: I'm glad to hear that you are feeling positive!\n",
      "INPUT :\tbad\n",
      "OUTPUT: I'm so sorry to hear that, I hope that you can feel better soon!\n",
      "INPUT :\tok\n",
      "OUTPUT: I'm glad that you feel fine, but I hope that you feel even better soon.\n",
      "INPUT :\tquit\n",
      "OUTPUT: True\n"
     ]
    }
   ],
   "source": [
    "have_a_chat()"
   ]
  }
 ],
 "metadata": {
  "kernelspec": {
   "display_name": "Python 3",
   "language": "python",
   "name": "python3"
  },
  "language_info": {
   "codemirror_mode": {
    "name": "ipython",
    "version": 3
   },
   "file_extension": ".py",
   "mimetype": "text/x-python",
   "name": "python",
   "nbconvert_exporter": "python",
   "pygments_lexer": "ipython3",
   "version": "3.6.7"
  }
 },
 "nbformat": 4,
 "nbformat_minor": 2
}
